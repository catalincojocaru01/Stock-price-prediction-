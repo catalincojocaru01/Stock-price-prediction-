{
 "cells": [
  {
   "cell_type": "code",
   "execution_count": null,
   "metadata": {},
   "outputs": [
    {
     "name": "stdout",
     "output_type": "stream",
     "text": [
      "Requirement already satisfied: pandas==1.3.3 in c:\\users\\catalin cojocaru\\anaconda3\\lib\\site-packages (1.3.3)\n",
      "Requirement already satisfied: numpy>=1.17.3 in c:\\users\\catalin cojocaru\\anaconda3\\lib\\site-packages (from pandas==1.3.3) (1.24.4)\n",
      "Requirement already satisfied: pytz>=2017.3 in c:\\users\\catalin cojocaru\\anaconda3\\lib\\site-packages (from pandas==1.3.3) (2023.3)\n",
      "Requirement already satisfied: python-dateutil>=2.7.3 in c:\\users\\catalin cojocaru\\anaconda3\\lib\\site-packages (from pandas==1.3.3) (2.8.2)\n",
      "Requirement already satisfied: six>=1.5 in c:\\users\\catalin cojocaru\\anaconda3\\lib\\site-packages (from python-dateutil>=2.7.3->pandas==1.3.3) (1.15.0)\n"
     ]
    }
   ],
   "source": [
    "# Recent versions of two useful libraries are installed\n",
    "\n",
    "!pip install pandas==1.3.3\n",
    "!pip install numpy==1.20.3"
   ]
  },
  {
   "cell_type": "code",
   "execution_count": 1,
   "metadata": {},
   "outputs": [
    {
     "name": "stdout",
     "output_type": "stream",
     "text": [
      "[*********************100%***********************]  1 of 1 completed\n",
      "[*********************100%***********************]  1 of 1 completed\n",
      "[*********************100%***********************]  1 of 1 completed\n",
      "[*********************100%***********************]  1 of 1 completed\n",
      "[*********************100%***********************]  1 of 1 completed\n",
      "               AZM.MI  ENI.MI  ENEL.MI  ISP.MI  LDO.MI\n",
      "Date                                                  \n",
      "2023-08-03  20.660000  13.666    6.006  2.5455  12.550\n",
      "2023-08-04  20.730000  13.724    5.943  2.5435  12.910\n",
      "2023-08-07  20.670000  13.678    5.932  2.5600  13.310\n",
      "2023-08-08  20.770000  13.626    5.923  2.3380  13.345\n",
      "2023-08-09  20.809999  14.068    6.007  2.3925  13.320\n",
      "2023-08-10  20.980000  14.126    6.096  2.4380  13.345\n",
      "2023-08-11  20.830000  14.048    6.006  2.4395  13.185\n",
      "2023-08-14  21.010000  14.014    6.054  2.4450  13.085\n",
      "2023-08-16  20.959999  13.930    5.953  2.4290  12.870\n",
      "2023-08-17  20.650000  13.974    5.884  2.4195  12.815\n",
      "2023-08-18  20.370001  14.034    5.924  2.4110  12.830\n",
      "2023-08-21  20.389999  14.090    5.924  2.4390  12.930\n",
      "2023-08-22  20.559999  14.114    5.989  2.4595  12.905\n",
      "2023-08-23  20.650000  14.074    6.063  2.4550  13.075\n",
      "2023-08-24  20.670000  14.128    6.074  2.4480  13.000\n",
      "2023-08-25  20.730000  14.154    6.109  2.4495  12.955\n",
      "2023-08-28  20.980000  14.298    6.130  2.4770  13.070\n",
      "2023-08-29  21.150000  14.356    6.207  2.4925  13.110\n",
      "2023-08-30  21.250000  14.368    6.185  2.5020  13.250\n",
      "2023-08-31  21.379999  14.284    6.210  2.4720  13.315\n",
      "2023-09-01  21.379999  14.538    6.156  2.4595  13.315\n"
     ]
    }
   ],
   "source": [
    "# Last month’s historical data (closing prices) on a daily base are downloaded for some of the largest companies listed on the FTSE MIB\n",
    "\n",
    "import yfinance as yf\n",
    "import pandas as pd\n",
    "from datetime import datetime, timedelta\n",
    "\n",
    "# Symbol list of companies listed on FTSE MIB\n",
    "companies = [\"AZM.MI\", \"ENI.MI\", \"ENEL.MI\", \"ISP.MI\", \"LDO.MI\"]\n",
    "\n",
    "# Today and date a month ago\n",
    "end_date = datetime.today().strftime('%Y-%m-%d')\n",
    "start_date = (datetime.today() - timedelta(days=30)).strftime('%Y-%m-%d')\n",
    "\n",
    "# Initialize an empty DataFrame for data\n",
    "historical_data = pd.DataFrame()\n",
    "\n",
    "# Extract data for each company\n",
    "for company_symbol in companies:\n",
    "    company_data = yf.download(company_symbol, start=start_date, end=end_date)\n",
    "    historical_data[company_symbol] = company_data['Close']\n",
    "\n",
    "# Print historical data of companies\n",
    "print(historical_data)\n",
    "\n",
    "# Yahoo Finance data arrives a day late so we will have last month’s prices available until the day before the run"
   ]
  },
  {
   "cell_type": "code",
   "execution_count": 2,
   "metadata": {},
   "outputs": [
    {
     "name": "stdout",
     "output_type": "stream",
     "text": [
      "Requirement already satisfied: yfinance in c:\\users\\catalin cojocaru\\anaconda3\\lib\\site-packages (0.2.18)\n",
      "Requirement already satisfied: numpy in c:\\users\\catalin cojocaru\\anaconda3\\lib\\site-packages (1.24.3)\n",
      "Requirement already satisfied: statsmodels in c:\\users\\catalin cojocaru\\anaconda3\\lib\\site-packages (0.11.1)\n",
      "Requirement already satisfied: matplotlib in c:\\users\\catalin cojocaru\\anaconda3\\lib\\site-packages (3.2.2)\n",
      "Requirement already satisfied: html5lib>=1.1 in c:\\users\\catalin cojocaru\\anaconda3\\lib\\site-packages (from yfinance) (1.1)\n",
      "Requirement already satisfied: pandas>=1.3.0 in c:\\users\\catalin cojocaru\\anaconda3\\lib\\site-packages (from yfinance) (2.0.1)\n",
      "Requirement already satisfied: frozendict>=2.3.4 in c:\\users\\catalin cojocaru\\anaconda3\\lib\\site-packages (from yfinance) (2.3.8)\n",
      "Requirement already satisfied: pytz>=2022.5 in c:\\users\\catalin cojocaru\\anaconda3\\lib\\site-packages (from yfinance) (2023.3)\n",
      "Requirement already satisfied: cryptography>=3.3.2 in c:\\users\\catalin cojocaru\\anaconda3\\lib\\site-packages (from yfinance) (40.0.2)\n",
      "Requirement already satisfied: appdirs>=1.4.4 in c:\\users\\catalin cojocaru\\anaconda3\\lib\\site-packages (from yfinance) (1.4.4)\n",
      "Requirement already satisfied: beautifulsoup4>=4.11.1 in c:\\users\\catalin cojocaru\\anaconda3\\lib\\site-packages (from yfinance) (4.12.2)\n",
      "Requirement already satisfied: lxml>=4.9.1 in c:\\users\\catalin cojocaru\\anaconda3\\lib\\site-packages (from yfinance) (4.9.2)\n",
      "Requirement already satisfied: requests>=2.26 in c:\\users\\catalin cojocaru\\anaconda3\\lib\\site-packages (from yfinance) (2.30.0)\n",
      "Requirement already satisfied: multitasking>=0.0.7 in c:\\users\\catalin cojocaru\\anaconda3\\lib\\site-packages (from yfinance) (0.0.11)\n",
      "Requirement already satisfied: scipy>=1.0 in c:\\users\\catalin cojocaru\\anaconda3\\lib\\site-packages (from statsmodels) (1.5.0)\n",
      "Requirement already satisfied: patsy>=0.5 in c:\\users\\catalin cojocaru\\anaconda3\\lib\\site-packages (from statsmodels) (0.5.1)\n",
      "Requirement already satisfied: kiwisolver>=1.0.1 in c:\\users\\catalin cojocaru\\anaconda3\\lib\\site-packages (from matplotlib) (1.3.1)\n",
      "Requirement already satisfied: python-dateutil>=2.1 in c:\\users\\catalin cojocaru\\anaconda3\\lib\\site-packages (from matplotlib) (2.8.2)\n",
      "Requirement already satisfied: pyparsing!=2.0.4,!=2.1.2,!=2.1.6,>=2.0.1 in c:\\users\\catalin cojocaru\\anaconda3\\lib\\site-packages (from matplotlib) (2.4.7)\n",
      "Requirement already satisfied: cycler>=0.10 in c:\\users\\catalin cojocaru\\anaconda3\\lib\\site-packages (from matplotlib) (0.10.0)\n",
      "Requirement already satisfied: webencodings in c:\\users\\catalin cojocaru\\anaconda3\\lib\\site-packages (from html5lib>=1.1->yfinance) (0.5.1)\n",
      "Requirement already satisfied: six>=1.9 in c:\\users\\catalin cojocaru\\anaconda3\\lib\\site-packages (from html5lib>=1.1->yfinance) (1.15.0)\n",
      "Requirement already satisfied: tzdata>=2022.1 in c:\\users\\catalin cojocaru\\anaconda3\\lib\\site-packages (from pandas>=1.3.0->yfinance) (2023.3)\n",
      "Requirement already satisfied: cffi>=1.12 in c:\\users\\catalin cojocaru\\anaconda3\\lib\\site-packages (from cryptography>=3.3.2->yfinance) (1.14.0)\n",
      "Requirement already satisfied: soupsieve>1.2 in c:\\users\\catalin cojocaru\\anaconda3\\lib\\site-packages (from beautifulsoup4>=4.11.1->yfinance) (2.0.1)\n",
      "Requirement already satisfied: certifi>=2017.4.17 in c:\\users\\catalin cojocaru\\anaconda3\\lib\\site-packages (from requests>=2.26->yfinance) (2023.5.7)\n",
      "Requirement already satisfied: urllib3<3,>=1.21.1 in c:\\users\\catalin cojocaru\\anaconda3\\lib\\site-packages (from requests>=2.26->yfinance) (2.0.2)\n",
      "Requirement already satisfied: charset-normalizer<4,>=2 in c:\\users\\catalin cojocaru\\anaconda3\\lib\\site-packages (from requests>=2.26->yfinance) (3.1.0)\n",
      "Requirement already satisfied: idna<4,>=2.5 in c:\\users\\catalin cojocaru\\anaconda3\\lib\\site-packages (from requests>=2.26->yfinance) (2.10)\n",
      "Requirement already satisfied: pycparser in c:\\users\\catalin cojocaru\\anaconda3\\lib\\site-packages (from cffi>=1.12->cryptography>=3.3.2->yfinance) (2.20)\n"
     ]
    }
   ],
   "source": [
    "# Other useful libraries are installed\n",
    "\n",
    "!pip install yfinance numpy statsmodels matplotlib"
   ]
  },
  {
   "cell_type": "code",
   "execution_count": 2,
   "metadata": {},
   "outputs": [
    {
     "name": "stdout",
     "output_type": "stream",
     "text": [
      "[*********************100%***********************]  1 of 1 completed\n",
      "Forecast date: 2023-09-03\n",
      "Forecast for the day after the run: 21.39158476676075\n"
     ]
    },
    {
     "data": {
      "image/png": "[encoded data removed]",
      "text/plain": [
       "<Figure size 720x432 with 1 Axes>"
      ]
     },
     "metadata": {
      "needs_background": "light"
     },
     "output_type": "display_data"
    }
   ],
   "source": [
    "# Based on the extracted data of the last month, a forecast is made for the day after the run using an ARIMA model.\n",
    "\n",
    "import yfinance as yf\n",
    "import pandas as pd\n",
    "from datetime import datetime, timedelta\n",
    "from statsmodels.tsa.arima_model import ARIMA\n",
    "import matplotlib.pyplot as plt\n",
    "import matplotlib.dates as mdates\n",
    "\n",
    "# Symbol of the company you want to forecast\n",
    "company_symbol = \"AZM.MI\"\n",
    "\n",
    "# Today and forecast date (\"tomorrow\")\n",
    "end_date = datetime.today().strftime('%Y-%m-%d')\n",
    "forecast_date = (datetime.today() + timedelta(days=1)).strftime('%Y-%m-%d')\n",
    "start_date = (datetime.today() - timedelta(days=30)).strftime('%Y-%m-%d')\n",
    "\n",
    "try:\n",
    "    # Extract historical closing price data\n",
    "    company_data = yf.download(company_symbol, start=start_date, end=end_date)\n",
    "    closing_prices = company_data['Close']\n",
    "\n",
    "    # Remove Nan or infinite values\n",
    "    closing_prices = closing_prices.dropna()\n",
    "\n",
    "    if len(closing_prices) < 2:\n",
    "        raise ValueError(\"There is not enough data to make a prediction.\")\n",
    "\n",
    "    # Set the frequency of the date index to’D' (daily)\n",
    "    closing_prices = closing_prices.asfreq('D')\n",
    "\n",
    "    # Interpolation to fill missing values\n",
    "    closing_prices = closing_prices.interpolate()\n",
    "\n",
    "    # Creation of the ARIMA model\n",
    "    model = ARIMA(closing_prices, order=(5, 1, 0))\n",
    "    model_fit = model.fit(disp=0)\n",
    "    \n",
    "    # Make the forecast for the day after the run\n",
    "    forecast, stderr, conf_int = model_fit.forecast(steps=1)\n",
    "\n",
    "    # Print the forecast for tomorrow\n",
    "    print(\"Forecast date:\", forecast_date)\n",
    "    print(\"Forecast for the day after the run:\", forecast[0])\n",
    "\n",
    "    # Plot of historical data and forecast\n",
    "    plt.figure(figsize=(10, 6))\n",
    "    plt.plot(closing_prices.index, closing_prices.values, label='Historical Data')\n",
    "    plt.plot([closing_prices.index[-1], pd.to_datetime(forecast_date)], [closing_prices.iloc[-1], forecast[0]], marker='o', color='r', label='Forecast for tomorrow')\n",
    "    plt.gca().xaxis.set_major_formatter(mdates.DateFormatter('%Y-%m-%d'))\n",
    "    plt.gca().xaxis.set_major_locator(mdates.DayLocator(interval=1))\n",
    "    plt.gcf().autofmt_xdate()\n",
    "    plt.legend()\n",
    "    plt.title(f'Forecast share price for {company_symbol}')\n",
    "    plt.xlabel('Date')\n",
    "    plt.ylabel('Closing price')\n",
    "    plt.show()\n",
    "\n",
    "except Exception as e:\n",
    "    print(\"An error has occurred:\", e)\n",
    "    \n",
    "# The result of the script is given from the date of forecast \n",
    "# and from the relative forecasted price \n",
    "# more a diagram that shows the course of the historical data and the forecasted value."
   ]
  }
 ],
 "metadata": {
  "kernelspec": {
   "display_name": "Python 3",
   "language": "python",
   "name": "python3"
  },
  "language_info": {
   "codemirror_mode": {
    "name": "ipython",
    "version": 3
   },
   "file_extension": ".py",
   "mimetype": "text/x-python",
   "name": "python",
   "nbconvert_exporter": "python",
   "pygments_lexer": "ipython3",
   "version": "3.8.3"
  }
 },
 "nbformat": 4,
 "nbformat_minor": 4
}
